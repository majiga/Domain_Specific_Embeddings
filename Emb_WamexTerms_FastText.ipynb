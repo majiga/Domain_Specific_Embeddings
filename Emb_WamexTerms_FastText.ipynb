{
 "cells": [
  {
   "cell_type": "markdown",
   "metadata": {},
   "source": [
    "# WAMEX entities-only embedding with FastText"
   ]
  },
  {
   "cell_type": "code",
   "execution_count": 1,
   "metadata": {},
   "outputs": [
    {
     "name": "stderr",
     "output_type": "stream",
     "text": [
      "2018-11-09 13:09:17,958 : INFO : START - FastText Embeddings for entities only file\n"
     ]
    }
   ],
   "source": [
    "from gensim.models import FastText\n",
    "\n",
    "MODEL_FILE_NAME = r\"Vectors/FastText_wamex_terms.model\"\n",
    "\n",
    "import logging\n",
    "logging.basicConfig(format='%(asctime)s : %(levelname)s : %(message)s', level=logging.INFO)\n",
    "logging.info('START - FastText Embeddings for entities only file')"
   ]
  },
  {
   "cell_type": "markdown",
   "metadata": {},
   "source": [
    "## Load the existing model that is already generated"
   ]
  },
  {
   "cell_type": "code",
   "execution_count": 3,
   "metadata": {},
   "outputs": [
    {
     "name": "stderr",
     "output_type": "stream",
     "text": [
      "2018-11-09 13:09:33,388 : INFO : loading FastText object from Vectors/FastText_wamex_terms.model\n",
      "2018-11-09 13:09:33,463 : INFO : loading wv recursively from Vectors/FastText_wamex_terms.model.wv.* with mmap=None\n",
      "2018-11-09 13:09:33,463 : INFO : setting ignored attribute vectors_norm to None\n",
      "2018-11-09 13:09:33,464 : INFO : setting ignored attribute vectors_vocab_norm to None\n",
      "2018-11-09 13:09:33,464 : INFO : setting ignored attribute vectors_ngrams_norm to None\n",
      "2018-11-09 13:09:33,465 : INFO : setting ignored attribute buckets_word to None\n",
      "2018-11-09 13:09:33,465 : INFO : loading vocabulary recursively from Vectors/FastText_wamex_terms.model.vocabulary.* with mmap=None\n",
      "2018-11-09 13:09:33,468 : INFO : loading trainables recursively from Vectors/FastText_wamex_terms.model.trainables.* with mmap=None\n",
      "2018-11-09 13:09:33,469 : INFO : loaded Vectors/FastText_wamex_terms.model\n"
     ]
    },
    {
     "name": "stdout",
     "output_type": "stream",
     "text": [
      "[ 0.11394285 -0.2954462  -0.00161281 -0.13292015  0.16249023 -0.29896724\n",
      " -0.11928976 -0.09642559  0.03694298 -0.01508666  0.3389508   0.16575722\n",
      "  0.35612342  0.3288069   0.3662248   0.1309997  -0.08535857  0.05184054\n",
      "  0.08872069  0.04750683  0.10573867 -0.19169861  0.14181891 -0.02243489\n",
      " -0.10144629 -0.35596833  0.05233613  0.01030986  0.02784077  0.05750883\n",
      " -0.23626123 -0.14224444 -0.01390793  0.17340924 -0.03772602  0.3135555\n",
      "  0.03876122  0.06076474  0.08404154 -0.12702513  0.01460998  0.06024339\n",
      " -0.30078572  0.11498134  0.15024103  0.35172573  0.06366682  0.16782545\n",
      " -0.16606937  0.37653887 -0.13072525  0.23260714 -0.05100095  0.17505772\n",
      "  0.20597345 -0.09268837 -0.28350693 -0.39543292  0.38256982 -0.03765872\n",
      "  0.37133476 -0.13598533  0.49424398 -0.11985529  0.12764889 -0.061955\n",
      "  0.12554361 -0.04529578 -0.03425958  0.05043591  0.39497897 -0.19723797\n",
      "  0.16822003  0.22117823 -0.05482369  0.17574376 -0.563747   -0.01264164\n",
      "  0.4310346   0.11678924 -0.0020106   0.10945526 -0.13770595 -0.10630382\n",
      " -0.13740386 -0.18754508  0.08341665 -0.10994918  0.2353396   0.02561591\n",
      "  0.14844412 -0.17687163  0.11428332 -0.04769708 -0.00588365  0.08911285\n",
      "  0.06814522 -0.02853242  0.09323785  0.11617226]\n"
     ]
    }
   ],
   "source": [
    "model = FastText.load(MODEL_FILE_NAME)\n",
    "print(model.wv['gold'])"
   ]
  },
  {
   "cell_type": "markdown",
   "metadata": {},
   "source": [
    "## Query embeddings"
   ]
  },
  {
   "cell_type": "code",
   "execution_count": 5,
   "metadata": {},
   "outputs": [
    {
     "name": "stdout",
     "output_type": "stream",
     "text": [
      "838\n",
      "[('surface-gold', 0.6471667885780334), ('mineralisation', 0.6091030836105347), ('gold-mineral', 0.6073516607284546), ('metal', 0.5900108814239502), ('kalgoorlie', 0.5751836895942688), ('mineralization', 0.5579638481140137), ('archaean', 0.5395445823669434), ('greenstone-belt', 0.5328158140182495), ('western-australia', 0.5220494270324707), ('porphyry', 0.5169448256492615)]\n",
      "[('iron', 0.7189403176307678), ('hematite', 0.6706165075302124), ('west-angelas', 0.6031655073165894), ('marandoo', 0.5790084600448608), ('mount-jackson', 0.576352596282959), ('windarling', 0.5694667100906372), ('hamersley', 0.56002277135849), ('martite', 0.5448140501976013), ('banded-iron-formation', 0.5407716631889343), ('wickham', 0.5288003087043762)]\n",
      "[('iron-ore', 0.7189403176307678), ('west-angelas', 0.625342607498169), ('hematite', 0.6078956723213196), ('hamersley', 0.6060777306556702), ('banded-iron-formation', 0.586807131767273), ('crocidolite', 0.5754819512367249), ('marandoo', 0.5697031617164612), ('wittenoom-formation', 0.5358288884162903), ('macleod-member', 0.5351114273071289), ('mount-newman-member', 0.5350341200828552)]\n",
      "[('marandoo', 0.5217428207397461), ('west-angelas', 0.5119743943214417), ('hematite', 0.5105594396591187), ('windarling', 0.5066432952880859), ('martite', 0.46460020542144775), ('yerecoin', 0.4595607817173004), ('extension-hill', 0.4429897367954254), ('wickham', 0.43494147062301636), ('mount-jackson', 0.4243476986885071), ('cunderdin', 0.4236704111099243)]\n",
      "[('coolgardie', 0.6758178472518921), ('kalgoorlie-terrane', 0.6446294188499451), ('norseman', 0.6258366703987122), ('kurnalpi', 0.6129163503646851), ('kambalda', 0.6115248799324036), ('kalgoorlie-group', 0.5870535373687744), ('kanowna', 0.5808191299438477), ('gold', 0.5751836895942688), ('broad-arrow', 0.5740610361099243), ('widgiemooltha', 0.5643602013587952)]\n"
     ]
    }
   ],
   "source": [
    "#print(model_fasttext.wv.vocab)\n",
    "print(len(model.wv.vocab))\n",
    "# 838 words 100+ freq\n",
    "\n",
    "print(model.wv.most_similar('gold'))\n",
    "print(model.wv.most_similar('iron-ore'))\n",
    "print(model.wv.most_similar('iron', topn=10))\n",
    "print(model.wv.most_similar(positive=['kalgoorlie','iron-ore'],negative=['gold']))\n",
    "\n",
    "print(model.wv.most_similar('kalgoorlie'))\n",
    "#print(model.wv['gold'])"
   ]
  },
  {
   "cell_type": "markdown",
   "metadata": {},
   "source": [
    "## Read the entities only file and Train the FastText model\n",
    "Note: Or load the trained model in the next line"
   ]
  },
  {
   "cell_type": "raw",
   "metadata": {},
   "source": [
    "# RUN IT TO CREATE EMBEDDINGS\n",
    "\n",
    "FILE_TO_READ = r\"/Users/majiga/Documents/wamex/WAMEX_geological_entities_allfiles.txt\"\n",
    "\n",
    "sentences = \"\"\n",
    "with open(FILE_TO_READ, 'r') as f:\n",
    "    sentences = f.readlines()\n",
    "print(len(sentences))   # 31328 files=lines of 28910989 words=tokens\n",
    "\n",
    "data = []\n",
    "count_terms = 0\n",
    "for s in sentences:\n",
    "    arr = s.split(', ')\n",
    "    words = []\n",
    "    for w in arr:\n",
    "        a = w.strip().replace(' ', '-')\n",
    "        words.append(a)\n",
    "    data.append(words)\n",
    "    count_terms += len(words) # 2,772,122\n",
    "\n",
    "print(count_terms)\n",
    "\n",
    "logging.info(\"START - Train the fastText model\")\n",
    "# Skip gram model FastText model \n",
    "# min_count of 100 --- min number of word occurrence\n",
    "# number of negatives sampled [5]\n",
    "model_fasttext = FastText(data, size=100, window=5, min_count=100, workers=4, sg=1)\n",
    "logging.info('END - FastText Embeddings for entities')\n",
    "\n",
    "# save model\n",
    "model_fasttext.save(MODEL_FILE_NAME)"
   ]
  },
  {
   "cell_type": "code",
   "execution_count": null,
   "metadata": {},
   "outputs": [],
   "source": []
  }
 ],
 "metadata": {
  "kernelspec": {
   "display_name": "Python 3",
   "language": "python",
   "name": "python3"
  },
  "language_info": {
   "codemirror_mode": {
    "name": "ipython",
    "version": 3
   },
   "file_extension": ".py",
   "mimetype": "text/x-python",
   "name": "python",
   "nbconvert_exporter": "python",
   "pygments_lexer": "ipython3",
   "version": "3.6.4"
  }
 },
 "nbformat": 4,
 "nbformat_minor": 2
}
