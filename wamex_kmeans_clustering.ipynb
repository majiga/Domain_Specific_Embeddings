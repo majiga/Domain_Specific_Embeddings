{
 "cells": [
  {
   "cell_type": "code",
   "execution_count": 19,
   "metadata": {},
   "outputs": [],
   "source": [
    "import gensim\n",
    "\n",
    "MODEL_FILE_NAME = r\"Vectors/Word2Vec_wamex_terms.model\"\n",
    "NUM_CLUSTERS = 50"
   ]
  },
  {
   "cell_type": "code",
   "execution_count": 5,
   "metadata": {},
   "outputs": [
    {
     "name": "stderr",
     "output_type": "stream",
     "text": [
      "c:\\users\\20230326\\appdata\\local\\continuum\\anaconda3\\lib\\site-packages\\ipykernel_launcher.py:2: DeprecationWarning: Call to deprecated `__getitem__` (Method will be removed in 4.0.0, use self.wv.__getitem__() instead).\n",
      "  \n"
     ]
    }
   ],
   "source": [
    "model = gensim.models.Word2Vec.load(MODEL_FILE_NAME)\n",
    "X = model[model.wv.vocab]"
   ]
  },
  {
   "cell_type": "markdown",
   "metadata": {},
   "source": [
    "## K Means Clustering with Scikit-learn Library"
   ]
  },
  {
   "cell_type": "code",
   "execution_count": 13,
   "metadata": {},
   "outputs": [
    {
     "name": "stdout",
     "output_type": "stream",
     "text": [
      "Cluster id labels for inputted data\n",
      "[24  4 35 31 26  4 26 26 26  4  4 26 32 35 35 35 35 17 19 30 35 17 35 35\n",
      " 37 13 35 35 17 35 35 35 21 26 10 35 26 35 26 19 35 10 28 28 26  6  6 26\n",
      "  6 35  6 26 26 32 26 26  6 26 34 27 34 17 35 35 35 18  7 27 26 19 26 27\n",
      " 17  6 27 27 26 27 34  1 26 27 17 26  4 26 26 26 37 19 19 19 26  4 18 17\n",
      " 14 37 34 17 17 34 35 14 35 34 26 26 27 34  4 17 17  4 17 26 34  1  1  1\n",
      "  1 19 35 35 19 24 24 26 12 12 12 12 12 12 12 35 12 35  4  2 19 35 37 32\n",
      " 37 12 31 12 17 35 32 32 35  2 36 19 19 19 26 26  9 16 13 13 35 37 17  8\n",
      " 13 35 26 16 13 35 35 16 39  3 38 37 38 16 37 35  5 38 38  4 14 38  5  5\n",
      "  3 19  5  5  5  5 15 15 38  3  3 35 39 16 35 12 16 38  4 35 16 24 24 24\n",
      " 37 24 26  6  6 31 32 32 17 19 13 37 35 13 26 37 37 35 16 39 39 14 39 16\n",
      "  9  8  4 26 30 35 26  7  2 18 18 18 31 18 13  4 26 35 35 26  4 26 35 35\n",
      " 33 18 24 26 26 32 31 31 12  4 23 26 15 26 26  4 11 11 11 19 19 34 20 11\n",
      " 35 11 11 11 11 19 18 28 29 28  6 29  6 28 18 26 17  6 17 31  5  5 15  3\n",
      " 15 31 31  6 31 31 30 30 26 26  5 12 12 12 12 37 35 12 12 24 17 35 35 33\n",
      " 18 35 11 11 35 37 37  4 37  4 35 33 30 31 35 30 37  6 33 33 24 37  6 18\n",
      " 26 18 26 26 20 33 33 28 31 25 25 14 25 35 25 17 19  1 26 14 25 25 14 14\n",
      " 14 29 29 29 27 28  6  6 28 34 17 34 10  8  8 23 31 31 10 10 10 10 10 10\n",
      " 35 35 10 10 18 18 18 18 18  4 18 26 39  3 37 14 27 37 37 14 17 24 22  1\n",
      "  1 14 14 26 26 26 26 16 37 12 39  4 37 17 17  4  4 32  4 17  4  2 17 20\n",
      " 22  2 14 14 14 14 18  5 18 28 28 33 24 12 15 12 12 17 37 14 14  6 17 35\n",
      "  4  8  8  8  8 20 20  6 28 27 17 28  4  4 37 37 18 18 15 39 10 15 15 13\n",
      " 13  8  8  2  2 35  2 17  2 10 21  6 17 17 17  8 39 18 18 18 18 35 18 18\n",
      " 32 32 36  9 28 28  4 17 18 13  4  8 22  8 37 15 15 15 18 17 18 14 31 32\n",
      " 32 21 21 23  6  6  6  9 39  9 33 33 31  4 37 19 17 12 31 31 38 38  3 18\n",
      " 36  9 31 31 28 21 11 18 33 18 18 18 39 37 28 18 38 21 21 21 21  9  9  9\n",
      "  9  9  9  9 30 18 16 16 20 17  3 14 27 22 37 27 30 28 28  0 33 38  3 31\n",
      " 15 23 12 18 31 33 31 30  7  3  7 33  7  7  9 34 28 28  4 14  5  5 23 32\n",
      " 27  4 20 20 33 24 17 18 17 36 36 20 24 27 14  0 33  6 18 15 30 15 23  3\n",
      " 22 27 24 22 12 12 18 29 15 15  2 23 23 23 36 22 22 22 22 22 22 30  5  0\n",
      " 12 39  5 13 32 22 27  9  6  2 18  8 25 15 23 31 34  9 36 33 24 24 24 35\n",
      " 21 21 21  5 37 15  8  8 35 30  3 12 30 16 27  2  8  8 30 15 23 26 32 27\n",
      " 27 37 38 38  7  2  8 27 38  2 25 18 30 33  3 27 35 23 15  8  7 24 38  5\n",
      " 38  4  7 38 37 27 17 12  8 38  9 25 13 13  2 27 12 23 36 20 27  3  7 35\n",
      "  2 20 28 17 36 38 17 15 38  3 22 22  7  7 38  5 16 20 20 20 15 13  5 27\n",
      " 27  5 30 31 34  8 20 21 36 36 24 21 20 24 21 36 20 27 38 12 20]\n",
      "Centroids data\n",
      "[[ 0.03734121  0.17820498 -0.44731346 ...  0.28828582  0.17567849\n",
      "  -0.03682895]\n",
      " [ 0.7433586   0.48341188  0.07247867 ...  0.32643077  0.07702703\n",
      "  -0.03072757]\n",
      " [ 0.12629256 -0.26657522  0.06923258 ... -0.29261103  0.3731617\n",
      "  -0.54642147]\n",
      " ...\n",
      " [ 0.200832    0.11036485 -0.14849596 ...  0.02565256  0.21075591\n",
      "   0.04481613]\n",
      " [ 0.594763   -0.28110406 -0.10807157 ... -0.24557982  0.3160019\n",
      "   0.10118022]\n",
      " [ 0.49252927  0.13272505 -0.11143117 ...  0.05610674  0.27730507\n",
      "   0.04512753]]\n",
      "Score (Opposite of the value of X on the K-means objective which is Sum of distances of samples to their closest cluster center):\n",
      "-7077.285720825195\n",
      "Silhouette_score: \n",
      "0.101595476\n"
     ]
    }
   ],
   "source": [
    "from sklearn import cluster\n",
    "from sklearn import metrics\n",
    "\n",
    "kmeans = cluster.KMeans(n_clusters=NUM_CLUSTERS)\n",
    "kmeans.fit(X)\n",
    " \n",
    "labels = kmeans.labels_\n",
    "centroids = kmeans.cluster_centers_\n",
    " \n",
    "print (\"Cluster id labels for inputted data\")\n",
    "print (labels)\n",
    "print (\"Centroids data\")\n",
    "print (centroids)\n",
    " \n",
    "print (\"Score (Opposite of the value of X on the K-means objective which is Sum of distances of samples to their closest cluster center):\")\n",
    "print (kmeans.score(X))\n",
    " \n",
    "silhouette_score = metrics.silhouette_score(X, labels, metric='cosine')\n",
    " \n",
    "print (\"Silhouette_score: \")\n",
    "print (silhouette_score)"
   ]
  },
  {
   "cell_type": "raw",
   "metadata": {},
   "source": [
    "def find_word_clusters(labels_array, cluster_labels):\n",
    "  '''Return the set of words in each cluster'''\n",
    "  cluster_to_words = autovivify_list()\n",
    "  for c, i in enumerate(cluster_labels):\n",
    "    cluster_to_words[ i ].append( labels_array[c] )\n",
    "  return cluster_to_words\n",
    "\n",
    "cluster_to_words  = find_word_clusters(labels_array, cluster_labels)\n",
    "\n",
    "for c in cluster_to_words:\n",
    "    print(cluster_to_words[c], \"\\n\")"
   ]
  },
  {
   "cell_type": "markdown",
   "metadata": {},
   "source": [
    "## K Means Clustering with NLTK Library"
   ]
  },
  {
   "cell_type": "code",
   "execution_count": 20,
   "metadata": {},
   "outputs": [
    {
     "name": "stdout",
     "output_type": "stream",
     "text": [
      "[36, 36, 36, 3, 42, 42, 4, 4, 29, 42, 42, 28, 28, 29, 41, 28, 29, 9, 49, 2, 32, 9, 29, 32, 7, 8, 21, 36, 9, 13, 29, 3, 8, 29, 8, 32, 30, 21, 29, 22, 30, 22, 47, 18, 28, 18, 37, 29, 37, 37, 33, 30, 30, 32, 30, 29, 37, 29, 40, 13, 40, 9, 31, 32, 39, 17, 41, 5, 29, 14, 25, 13, 33, 37, 5, 13, 25, 5, 40, 38, 31, 5, 4, 30, 44, 30, 30, 30, 45, 5, 14, 14, 45, 11, 16, 5, 1, 46, 40, 9, 9, 40, 29, 38, 38, 40, 29, 29, 5, 38, 4, 4, 9, 44, 4, 33, 38, 38, 38, 38, 38, 30, 32, 32, 25, 36, 36, 29, 26, 26, 26, 26, 26, 26, 26, 28, 26, 29, 44, 34, 49, 27, 28, 32, 10, 26, 3, 26, 42, 32, 32, 44, 49, 46, 14, 30, 25, 49, 28, 28, 41, 6, 43, 45, 30, 45, 32, 43, 45, 21, 25, 6, 45, 29, 46, 39, 10, 15, 15, 46, 15, 6, 46, 27, 23, 15, 15, 12, 38, 15, 12, 23, 15, 20, 12, 12, 23, 23, 21, 12, 15, 15, 15, 0, 20, 20, 30, 26, 6, 15, 44, 20, 6, 36, 36, 36, 11, 36, 29, 18, 37, 3, 32, 32, 4, 6, 48, 12, 39, 39, 17, 45, 27, 27, 39, 7, 20, 6, 45, 6, 14, 43, 42, 48, 2, 38, 3, 41, 46, 16, 17, 16, 3, 17, 43, 11, 11, 18, 16, 30, 44, 25, 13, 23, 33, 16, 36, 28, 25, 32, 3, 3, 26, 24, 24, 31, 21, 29, 31, 44, 19, 19, 19, 22, 22, 38, 19, 19, 41, 34, 34, 19, 34, 35, 18, 18, 18, 47, 18, 18, 18, 18, 17, 33, 32, 37, 9, 36, 23, 12, 21, 15, 21, 3, 3, 37, 3, 3, 0, 2, 31, 29, 6, 26, 26, 26, 26, 7, 27, 26, 46, 2, 4, 5, 39, 47, 16, 40, 19, 19, 41, 19, 10, 45, 46, 44, 3, 33, 2, 28, 32, 0, 23, 37, 33, 33, 2, 40, 18, 46, 11, 16, 30, 25, 25, 47, 47, 47, 3, 49, 38, 38, 49, 41, 49, 32, 30, 38, 28, 38, 49, 49, 38, 38, 38, 18, 18, 18, 13, 18, 37, 37, 47, 3, 13, 3, 8, 43, 43, 24, 37, 3, 8, 8, 22, 22, 22, 22, 40, 41, 22, 8, 17, 17, 33, 33, 17, 32, 17, 30, 20, 0, 40, 38, 1, 46, 46, 38, 9, 2, 40, 38, 38, 38, 38, 31, 25, 31, 31, 39, 45, 26, 20, 11, 11, 9, 11, 13, 44, 44, 11, 11, 44, 34, 9, 20, 40, 10, 38, 38, 38, 38, 33, 23, 17, 47, 47, 33, 48, 26, 12, 26, 26, 12, 40, 38, 38, 37, 47, 23, 42, 43, 43, 43, 43, 19, 19, 18, 47, 13, 37, 47, 11, 40, 11, 11, 16, 17, 21, 7, 22, 21, 21, 45, 45, 43, 43, 34, 34, 24, 34, 16, 34, 22, 35, 37, 18, 16, 11, 43, 7, 17, 16, 17, 17, 37, 16, 16, 44, 32, 38, 41, 47, 47, 42, 6, 17, 43, 42, 43, 40, 43, 39, 0, 21, 12, 17, 32, 17, 38, 3, 12, 32, 35, 35, 24, 37, 37, 37, 14, 20, 14, 33, 33, 3, 30, 28, 30, 11, 26, 3, 21, 15, 15, 10, 17, 14, 14, 21, 3, 18, 35, 19, 33, 33, 17, 17, 17, 20, 10, 18, 17, 15, 35, 35, 35, 35, 14, 14, 41, 14, 14, 14, 14, 2, 16, 6, 6, 19, 16, 23, 38, 5, 40, 7, 5, 2, 47, 47, 37, 33, 15, 0, 26, 21, 24, 26, 16, 3, 33, 21, 0, 15, 0, 0, 18, 41, 41, 41, 38, 47, 47, 49, 38, 23, 23, 12, 12, 13, 4, 19, 19, 33, 36, 16, 16, 16, 14, 14, 19, 36, 13, 38, 37, 37, 37, 17, 21, 2, 21, 12, 15, 5, 5, 21, 40, 26, 26, 17, 47, 21, 21, 34, 24, 24, 24, 14, 4, 4, 4, 4, 4, 40, 0, 12, 37, 26, 20, 12, 45, 32, 40, 5, 41, 18, 34, 33, 48, 49, 21, 24, 21, 5, 14, 35, 33, 36, 36, 36, 23, 35, 35, 35, 23, 46, 21, 43, 43, 41, 2, 0, 26, 2, 6, 5, 34, 39, 42, 0, 21, 24, 31, 25, 5, 5, 46, 12, 12, 15, 10, 43, 5, 10, 49, 49, 17, 2, 9, 0, 5, 12, 24, 10, 48, 15, 36, 12, 12, 12, 12, 41, 10, 5, 1, 4, 26, 43, 15, 14, 49, 45, 45, 48, 5, 26, 24, 14, 20, 5, 0, 41, 41, 45, 19, 47, 26, 14, 15, 3, 21, 15, 15, 40, 4, 41, 41, 10, 12, 6, 19, 19, 19, 21, 45, 12, 5, 5, 12, 2, 3, 40, 43, 19, 8, 14, 14, 36, 35, 19, 36, 35, 14, 19, 5, 15, 26, 19]\n"
     ]
    }
   ],
   "source": [
    "from nltk.cluster import KMeansClusterer\n",
    "import nltk\n",
    "\n",
    "kclusterer = KMeansClusterer(NUM_CLUSTERS, distance=nltk.cluster.util.cosine_distance, repeats=25)\n",
    "\n",
    "assigned_clusters = kclusterer.cluster(X, assign_clusters=True)\n",
    "\n",
    "print (assigned_clusters)"
   ]
  },
  {
   "cell_type": "raw",
   "metadata": {},
   "source": [
    "words = list(model.wv.vocab)\n",
    "for i, word in enumerate(words):  \n",
    "    print (word + \":\" + str(assigned_clusters[i]))"
   ]
  },
  {
   "cell_type": "code",
   "execution_count": 25,
   "metadata": {},
   "outputs": [
    {
     "name": "stdout",
     "output_type": "stream",
     "text": [
      "dolerite:29\n",
      "archaean:29\n",
      "western_australia:29\n",
      "long:29\n",
      "gold:29\n",
      "basaltic:29\n",
      "sedimentary_rock:29\n",
      "greenstone_belt:29\n",
      "basalt:29\n",
      "mafic_volcanic_rock:29\n",
      "chert:29\n",
      "archean:29\n",
      "greenschist:29\n",
      "volcanic_rock:29\n",
      "monzogranite:29\n",
      "yilgarn_craton:29\n",
      "genesis:29\n",
      "banded_iron_formation:29\n",
      "igneous_rock:29\n",
      "felsic_volcanic_rock:29\n"
     ]
    }
   ],
   "source": [
    "#term = 'iron ore'\n",
    "#term = 'kalgoorlie'\n",
    "term = 'gold'\n",
    "#term = 'mudstone'\n",
    "cluster_id = 0\n",
    "\n",
    "for i, word in enumerate(words):\n",
    "    if word == term:\n",
    "        cluster_id = assigned_clusters[i]\n",
    "\n",
    "for i, word in enumerate(words):\n",
    "    if (assigned_clusters[i] == cluster_id):\n",
    "        print (word + \":\" + str(assigned_clusters[i]))"
   ]
  },
  {
   "cell_type": "code",
   "execution_count": null,
   "metadata": {},
   "outputs": [],
   "source": []
  }
 ],
 "metadata": {
  "kernelspec": {
   "display_name": "Python 3",
   "language": "python",
   "name": "python3"
  },
  "language_info": {
   "codemirror_mode": {
    "name": "ipython",
    "version": 3
   },
   "file_extension": ".py",
   "mimetype": "text/x-python",
   "name": "python",
   "nbconvert_exporter": "python",
   "pygments_lexer": "ipython3",
   "version": "3.6.5"
  }
 },
 "nbformat": 4,
 "nbformat_minor": 2
}
