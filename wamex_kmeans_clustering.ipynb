{
 "cells": [
  {
   "cell_type": "code",
   "execution_count": 1,
   "metadata": {},
   "outputs": [],
   "source": [
    "import gensim\n",
    "import numpy as np\n",
    "\n",
    "MODEL_FILE_NAME = r\"Vectors/Word2Vec_wamex_terms.model\""
   ]
  },
  {
   "cell_type": "code",
   "execution_count": 2,
   "metadata": {},
   "outputs": [],
   "source": [
    "model = gensim.models.Word2Vec.load(MODEL_FILE_NAME)\n",
    "X = model.wv[model.wv.vocab]"
   ]
  },
  {
   "cell_type": "markdown",
   "metadata": {},
   "source": [
    "## K Means Clustering with Scikit-learn Library"
   ]
  },
  {
   "cell_type": "code",
   "execution_count": 3,
   "metadata": {},
   "outputs": [],
   "source": [
    "from sklearn.cluster import KMeans\n",
    "from sklearn import metrics\n",
    "\n",
    "NUM_CLUSTERS = 80\n",
    "kmeans = KMeans(n_clusters=NUM_CLUSTERS)\n",
    "kmeans.fit(X)\n",
    " \n",
    "labels = kmeans.labels_\n",
    "centroids = kmeans.cluster_centers_"
   ]
  },
  {
   "cell_type": "code",
   "execution_count": 4,
   "metadata": {},
   "outputs": [
    {
     "name": "stdout",
     "output_type": "stream",
     "text": [
      "837\n",
      "837\n"
     ]
    }
   ],
   "source": [
    "#model.wv.vocab\n",
    "print(len(labels))\n",
    "print(len(X))"
   ]
  },
  {
   "cell_type": "code",
   "execution_count": 5,
   "metadata": {},
   "outputs": [
    {
     "name": "stdout",
     "output_type": "stream",
     "text": [
      "Cluster id labels for inputted data\n",
      "837\n"
     ]
    }
   ],
   "source": [
    "print (\"Cluster id labels for inputted data\")\n",
    "words = list(model.wv.vocab) \n",
    "print(len(labels))"
   ]
  },
  {
   "cell_type": "code",
   "execution_count": 10,
   "metadata": {},
   "outputs": [
    {
     "name": "stdout",
     "output_type": "stream",
     "text": [
      "0\n",
      "0 giles_complex\n",
      "0 musgrave_block\n",
      "0 table_hill_volcanics\n"
     ]
    }
   ],
   "source": [
    "cluster1 = 0\n",
    "for i in range(len(labels)):\n",
    "    #print (labels[i], words[i])\n",
    "    if (words[i] == 'sand stone'): # 'arkose\n",
    "        cluster1 = labels[i]\n",
    "print(cluster1)\n",
    "\n",
    "for i in range(len(labels)):\n",
    "    if labels[i] == cluster1:\n",
    "        print (labels[i], words[i])"
   ]
  },
  {
   "cell_type": "code",
   "execution_count": 7,
   "metadata": {},
   "outputs": [
    {
     "name": "stdout",
     "output_type": "stream",
     "text": [
      "Centroids data\n",
      "[[-0.1846979   0.43506658  0.0033847  ... -0.35685092  0.38246292\n",
      "  -0.37060988]\n",
      " [ 0.60633045  0.13849658  0.2862377  ... -0.36385325  0.0811509\n",
      "   0.17205495]\n",
      " [ 0.09017519  0.15794095 -0.4551045  ...  0.18409488 -0.13852236\n",
      "  -0.17090824]\n",
      " ...\n",
      " [-0.10486346  0.3408484   0.24075688 ... -0.14058276  0.05427424\n",
      "  -0.05653123]\n",
      " [ 0.13343766 -0.24455792  0.17602025 ... -0.15672469  0.4809678\n",
      "   0.05887683]\n",
      " [ 0.3677467   0.04840674 -0.01976345 ...  0.3647796  -0.39813223\n",
      "  -0.2949538 ]]\n",
      "Score (Opposite of the value of X on the K-means objective which is Sum of distances of samples to their closest cluster center):\n",
      "-5978.6444709300995\n",
      "Silhouette_score: \n",
      "0.09126811\n"
     ]
    }
   ],
   "source": [
    "print (\"Centroids data\")\n",
    "print (centroids)\n",
    " \n",
    "print (\"Score (Opposite of the value of X on the K-means objective which is Sum of distances of samples to their closest cluster center):\")\n",
    "print (kmeans.score(X))\n",
    " \n",
    "silhouette_score = metrics.silhouette_score(X, labels, metric='cosine')\n",
    " \n",
    "print (\"Silhouette_score: \")\n",
    "print (silhouette_score)"
   ]
  },
  {
   "cell_type": "code",
   "execution_count": null,
   "metadata": {},
   "outputs": [],
   "source": []
  }
 ],
 "metadata": {
  "kernelspec": {
   "display_name": "Python 3",
   "language": "python",
   "name": "python3"
  },
  "language_info": {
   "codemirror_mode": {
    "name": "ipython",
    "version": 3
   },
   "file_extension": ".py",
   "mimetype": "text/x-python",
   "name": "python",
   "nbconvert_exporter": "python",
   "pygments_lexer": "ipython3",
   "version": "3.6.4"
  }
 },
 "nbformat": 4,
 "nbformat_minor": 2
}
