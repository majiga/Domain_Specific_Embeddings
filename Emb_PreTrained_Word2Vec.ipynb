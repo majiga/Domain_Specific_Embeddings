{
 "cells": [
  {
   "cell_type": "markdown",
   "metadata": {},
   "source": [
    "# Load GoogleNews pre-trained Word2Vec vectors and query"
   ]
  },
  {
   "cell_type": "code",
   "execution_count": 1,
   "metadata": {},
   "outputs": [
    {
     "name": "stdout",
     "output_type": "stream",
     "text": [
      "(300,)\n"
     ]
    },
    {
     "data": {
      "text/plain": [
       "3000000"
      ]
     },
     "execution_count": 1,
     "metadata": {},
     "output_type": "execute_result"
    }
   ],
   "source": [
    "from gensim.models import KeyedVectors\n",
    "\n",
    "# Load pretrained model\n",
    "#modelg = KeyedVectors.load_word2vec_format(r'C:/WAMEX_project/Vectors/GoogleNews-vectors-negative300.bin', binary=True)\n",
    "modelg = KeyedVectors.load_word2vec_format(r'/Users/majiga/Documents/WAMEX_project/Vectors/GoogleNews-vectors-negative300.bin', binary=True)\n",
    "\n",
    "dog = modelg['dog']\n",
    "print(dog.shape)\n",
    "#print(dog[:10])\n",
    "\n",
    "len(modelg.vocab)\n",
    "#print(list(modelg.vocab))"
   ]
  },
  {
   "cell_type": "code",
   "execution_count": 18,
   "metadata": {},
   "outputs": [
    {
     "name": "stdout",
     "output_type": "stream",
     "text": [
      "(300,)\n"
     ]
    }
   ],
   "source": [
    "# Deal with an out of dictionary word\n",
    "if 'gold' in modelg:\n",
    "    print(modelg['gold'].shape)\n",
    "else:\n",
    "    print('{0} is an out of dictionary word'.format('gold'))"
   ]
  },
  {
   "cell_type": "code",
   "execution_count": 19,
   "metadata": {},
   "outputs": [
    {
     "name": "stdout",
     "output_type": "stream",
     "text": [
      "Wyloo_Group is an out of dictionary word\n"
     ]
    }
   ],
   "source": [
    "# Deal with an out of dictionary word: Ashburton_Formation\n",
    "#a_word = 'Ashburton_Formation' # is an out of dictionary word\n",
    "\n",
    "# WYLOO_GROUP is an out of dictionary word\n",
    "a_word = 'Wyloo_Group' #'wyloo group', 'WYLOO_GROUP', 'wyloo_group', 'Wyloo_Group', 'Wyloo_group' \n",
    "\n",
    "if a_word in modelg:\n",
    "    print(modelg[a_word].shape)\n",
    "else:\n",
    "    print('{0} is an out of dictionary word'.format(a_word))"
   ]
  },
  {
   "cell_type": "code",
   "execution_count": 21,
   "metadata": {},
   "outputs": [
    {
     "name": "stdout",
     "output_type": "stream",
     "text": [
      "[('queen', 0.7118192911148071), ('monarch', 0.6189674735069275), ('princess', 0.5902431011199951), ('crown_prince', 0.549946129322052), ('prince', 0.5377321243286133), ('kings', 0.5236844420433044), ('Queen_Consort', 0.5235945582389832), ('queens', 0.5181134343147278), ('sultan', 0.5098593235015869), ('monarchy', 0.5087411999702454)]\n",
      "[('treat_iron_deficiency', 0.5767540335655212), ('irons', 0.546851634979248), ('zero_valent', 0.5203249454498291), ('dogleg_par', 0.5148035287857056), ('Iron_sharpens', 0.5139580965042114), ('HBI_DRI', 0.5099007487297058), ('Shindle_Pa.', 0.5066496133804321), ('titanium_oxide_TiO', 0.5005055069923401), ('pond_fronting', 0.4871225953102112), ('wood', 0.4768836498260498)]\n",
      "[('Iron_ore', 0.8101682662963867), ('coking_coal', 0.7368131279945374), ('manganese_ore', 0.7130587100982666), ('iron_ores', 0.7056685090065002), ('ore', 0.6921454071998596), ('thermal_coal', 0.6854000091552734), ('Iron_Ore', 0.6742599606513977), ('iron_ore_exporter', 0.6624271869659424), ('steelmaking_ingredient', 0.6524762511253357), ('steelmakers', 0.6518499255180359)]\n",
      "[('Broken_Hill', 0.7368104457855225), ('Laverton', 0.7349985241889954), ('Mt_Isa', 0.7246281504631042), ('Alice_Springs', 0.722078263759613), ('Pilbara', 0.7018006443977356), ('Ballarat', 0.6986411809921265), ('Kalgoorlie_Boulder', 0.6970794796943665), ('Tennant_Creek', 0.6904590725898743), ('Maryborough', 0.6874443292617798), ('Perth', 0.6852093935012817)]\n",
      "[('AUSTRALIA_LIMITED', 0.773111879825592), ('BHP_BILLITON_LIMITED_ASX', 0.7718918919563293), ('AUSTRALIAN_LABOR_PARTY', 0.7622585296630859), ('FOREIGN_INVESTMENT_REVIEW_BOARD', 0.7617992758750916), ('AND_DEREGULATION', 0.7590132355690002), ('FORTESCUE_METALS_GROUP_LIMITED', 0.7542560696601868), ('METALS_LIMITED', 0.7534957528114319), ('MINERALS_LTD', 0.7522410750389099), ('SOUTH_AUSTRALIA', 0.7519671320915222), ('NEW_SOUTH_WALES', 0.7511131167411804)]\n",
      "[('silver', 0.8313292264938354), ('precious_metal', 0.7141956090927124), ('domed_Moussa', 0.6745095252990723), ('Nastia_deserved', 0.6671658754348755), ('Gold', 0.6448120474815369), ('Oludamola_stripped', 0.6431384682655334), ('precious_metals', 0.6222485899925232), ('Cuba_Yumileidi_Cumba_Jay', 0.6155210137367249), ('bullion', 0.6131513714790344), ('Safiullah_seated', 0.6025083661079407)]\n",
      "[('haematite', 0.7759263515472412), ('magnetite', 0.6983034610748291), ('iron_oxides', 0.6810952425003052), ('goethite', 0.6747013926506042), ('olivine', 0.6742473244667053), ('iron_oxide', 0.6632951498031616), ('siliceous', 0.6609509587287903), ('feldspar', 0.659281313419342), ('jarosite', 0.6575539708137512), ('sulphides', 0.6550111770629883)]\n",
      "0.831329214882637\n"
     ]
    }
   ],
   "source": [
    "# Some predefined functions that show content related information for given words\n",
    "print(modelg.most_similar(positive=['king', 'woman'], negative=['man']))\n",
    "\n",
    "#print(model.doesnt_match(\"breakfast cereal dinner lunch\".split()))\n",
    "\n",
    "print(modelg.most_similar('iron'))\n",
    "print(modelg.most_similar('iron_ore'))\n",
    "print(modelg.most_similar('Kalgoorlie'))\n",
    "\n",
    "#print(modelg.most_similar('western_australia')) # is an out of dictionary word\n",
    "#print(modelg.most_similar('Western_Australia')) # is an out of dictionary word\n",
    "print(modelg.most_similar('WESTERN_AUSTRALIA'))\n",
    "\n",
    "print(modelg.most_similar('gold'))\n",
    "print(modelg.most_similar('hematite'))\n",
    "#print(modelg.most_similar('knowledge'))\n",
    "\n",
    "print(modelg.similarity('gold', 'silver'))"
   ]
  },
  {
   "cell_type": "code",
   "execution_count": 22,
   "metadata": {},
   "outputs": [
    {
     "name": "stdout",
     "output_type": "stream",
     "text": [
      "[('Pilbara', 0.6952472925186157), ('Pilbara_region', 0.6085770130157471), ('Port_Hedland', 0.6010994911193848), ('Pilbara_iron_ore', 0.5927528738975525), ('Karratha', 0.5869401097297668), ('Mt_Isa', 0.5858684778213501), ('Laverton', 0.5829330682754517), ('Hamersley_Iron', 0.5745083689689636), ('Broken_Hill', 0.5730838775634766), ('WA_Pilbara', 0.5646942853927612)]\n",
      "[('magnetite', 0.5861679911613464), ('Iron_ore', 0.5635404586791992), ('hematite_ore', 0.5598375201225281), ('ilmenite', 0.5526933670043945), ('coking_coal', 0.5429782867431641), ('hematite_iron_ore', 0.5414996147155762), ('Yandicoogina', 0.5388588905334473), ('magnetite_concentrate', 0.5375280976295471), ('magnetite_ore', 0.5359860062599182), ('haematite', 0.5324506759643555)]\n"
     ]
    }
   ],
   "source": [
    "print(modelg.most_similar(positive=['Kalgoorlie', 'iron_ore'], negative=['gold']))\n",
    "print(modelg.most_similar(positive=['hematite', 'iron_ore'], negative=['gold']))"
   ]
  },
  {
   "cell_type": "code",
   "execution_count": null,
   "metadata": {},
   "outputs": [],
   "source": []
  }
 ],
 "metadata": {
  "kernelspec": {
   "display_name": "Python 3",
   "language": "python",
   "name": "python3"
  },
  "language_info": {
   "codemirror_mode": {
    "name": "ipython",
    "version": 3
   },
   "file_extension": ".py",
   "mimetype": "text/x-python",
   "name": "python",
   "nbconvert_exporter": "python",
   "pygments_lexer": "ipython3",
   "version": "3.6.4"
  }
 },
 "nbformat": 4,
 "nbformat_minor": 2
}
