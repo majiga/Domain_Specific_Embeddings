{
 "cells": [
  {
   "cell_type": "markdown",
   "metadata": {},
   "source": [
    "# Load GoogleNews pre-trained Word2Vec vectors and query"
   ]
  },
  {
   "cell_type": "code",
   "execution_count": 2,
   "metadata": {},
   "outputs": [
    {
     "name": "stdout",
     "output_type": "stream",
     "text": [
      "(300,)\n"
     ]
    },
    {
     "data": {
      "text/plain": [
       "3000000"
      ]
     },
     "execution_count": 2,
     "metadata": {},
     "output_type": "execute_result"
    }
   ],
   "source": [
    "from gensim.models import KeyedVectors\n",
    "\n",
    "# Load pretrained model\n",
    "#modelg = KeyedVectors.load_word2vec_format(r'C:/WAMEX_project/Vectors/GoogleNews-vectors-negative300.bin', binary=True)\n",
    "modelg = KeyedVectors.load_word2vec_format(r'/Users/majiga/Documents/WAMEX_project/Vectors/GoogleNews-vectors-negative300.bin', binary=True)\n",
    "\n",
    "dog = modelg['dog']\n",
    "print(dog.shape)\n",
    "#print(dog[:10])\n",
    "\n",
    "len(modelg.vocab)\n",
    "#print(list(modelg.vocab))"
   ]
  },
  {
   "cell_type": "code",
   "execution_count": 3,
   "metadata": {},
   "outputs": [
    {
     "name": "stdout",
     "output_type": "stream",
     "text": [
      "(300,)\n"
     ]
    }
   ],
   "source": [
    "# Deal with an out of dictionary word\n",
    "if 'gold' in modelg:\n",
    "    print(modelg['gold'].shape)\n",
    "else:\n",
    "    print('{0} is an out of dictionary word'.format('gold'))"
   ]
  },
  {
   "cell_type": "code",
   "execution_count": 8,
   "metadata": {},
   "outputs": [
    {
     "name": "stdout",
     "output_type": "stream",
     "text": [
      "3000000\n",
      "['</s>', 'in', 'for', 'that', 'is', 'on', '##', 'the', 'with', 'said', 'was', 'the', 'at', 'not', 'as', 'it', 'be', 'from', 'by', 'are']\n"
     ]
    }
   ],
   "source": [
    "vocab_lower = []\n",
    "\n",
    "for w in modelg.vocab:\n",
    "    # convert to lowercase\n",
    "    word = w.lower()\n",
    "    # if not a letter, change to a space\n",
    "    word = word.replace('-', ' ')\n",
    "    word = word.replace('_', ' ')\n",
    "    word = word.replace('.', ' ')\n",
    "\n",
    "    vocab_lower.append(word)\n",
    "\n",
    "print(len(vocab_lower))"
   ]
  },
  {
   "cell_type": "code",
   "execution_count": 14,
   "metadata": {},
   "outputs": [
    {
     "name": "stdout",
     "output_type": "stream",
     "text": [
      "['5th', 'chasing', 'smart', 'spends', 'could', 'graphics', 'southeast', 'cats', 'aug', 'polish', 'ridiculous', 'v ', 'affiliates', 'sellers', 'telecom', 'sponsorship', 'supervisor', 'naturally', 'liberal', 'going', 'calculated', 'publicity', 'slammed', 'retained', 'teenage', '# ### ### ####', 'regarded', 'justify', 'radar', 'mounting', 'furthermore', 'bathroom', 'liable', 'soccer', 'climbing', 'substance', 'eddie', 'pets', 'oversee', 'newton', 'trademarks', 'district judge', 'populations', 'boundaries', 'gunmen', 'pot', 'dubbed', 'raymond', 'enforce', 'beneath', 'ports', 'debts', 'advancing', 'adverse', 'arthur', 'trusted', 'caps', 'flown', 'buy', 'kidnapped', 'purdue', 'declare', 'punch', 'pink', 'tossed', 'presidential candidate', 'affiliated', 'harvest', 'lucrative', 'soaring', 'bristol', 'competitor', 'kabul', 'jointly', 'possibilities', 'centers', 'rochester', 'commonly', 'leeds', 'destinations', 'stating', 'pregnancy', 'davies', 'think', 'experiment', 'record', 't ', 'hostile', 'gulf coast', 'expectation', 'coming', 'cheney', 'indoor', 'olds', 'irs', 'spaces', 'researchers', 'homeland security', 'firmly', 'passionate']\n"
     ]
    }
   ],
   "source": [
    "print(vocab_lower[7100:7200])"
   ]
  },
  {
   "cell_type": "code",
   "execution_count": 16,
   "metadata": {},
   "outputs": [
    {
     "name": "stdout",
     "output_type": "stream",
     "text": [
      "ashburton formation is an out of dictionary word\n"
     ]
    }
   ],
   "source": [
    "# WYLOO_GROUP is an out of dictionary word\n",
    "#a_term = 'wyloo group' #'wyloo group', 'WYLOO_GROUP', 'wyloo_group', 'Wyloo_Group', 'Wyloo_group' \n",
    "a_term = 'ashburton formation' # is an out of dictionary word\n",
    "\n",
    "if a_term in vocab_lower:\n",
    "    print(a_term)\n",
    "else:\n",
    "    print('{0} is an out of dictionary word'.format(a_term))"
   ]
  },
  {
   "cell_type": "code",
   "execution_count": null,
   "metadata": {},
   "outputs": [],
   "source": [
    "# Some predefined functions that show content related information for given words\n",
    "print(modelg.most_similar(positive=['king', 'woman'], negative=['man']))\n",
    "\n",
    "#print(model.doesnt_match(\"breakfast cereal dinner lunch\".split()))\n",
    "\n",
    "print(modelg.most_similar('iron'))\n",
    "print(modelg.most_similar('iron_ore'))\n",
    "print(modelg.most_similar('Kalgoorlie'))\n",
    "\n",
    "#print(modelg.most_similar('western_australia')) # is an out of dictionary word\n",
    "#print(modelg.most_similar('Western_Australia')) # is an out of dictionary word\n",
    "print(modelg.most_similar('WESTERN_AUSTRALIA'))\n",
    "\n",
    "print(modelg.most_similar('gold'))\n",
    "print(modelg.most_similar('hematite'))\n",
    "#print(modelg.most_similar('knowledge'))\n",
    "\n",
    "print(modelg.similarity('gold', 'silver'))"
   ]
  },
  {
   "cell_type": "code",
   "execution_count": null,
   "metadata": {},
   "outputs": [],
   "source": [
    "print(modelg.most_similar(positive=['Kalgoorlie', 'iron_ore'], negative=['gold']))\n",
    "print(modelg.most_similar(positive=['hematite', 'iron_ore'], negative=['gold']))"
   ]
  },
  {
   "cell_type": "code",
   "execution_count": null,
   "metadata": {},
   "outputs": [],
   "source": []
  }
 ],
 "metadata": {
  "kernelspec": {
   "display_name": "Python 3",
   "language": "python",
   "name": "python3"
  }
 },
 "nbformat": 4,
 "nbformat_minor": 2
}
