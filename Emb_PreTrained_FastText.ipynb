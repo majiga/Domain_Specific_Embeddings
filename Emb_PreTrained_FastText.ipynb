{
 "cells": [
  {
   "cell_type": "markdown",
   "metadata": {},
   "source": [
    "# Load pre-trained FastText vectors and query"
   ]
  },
  {
   "cell_type": "code",
   "execution_count": 3,
   "metadata": {},
   "outputs": [],
   "source": [
    "import gensim\n",
    "\n",
    "# Load FastText vectors into GenSim model\n",
    "#model = gensim.models.KeyedVectors.load_word2vec_format(r\"C:/WAMEX_project/Vectors/crawl-300d-2M.vec\")\n",
    "model = gensim.models.KeyedVectors.load_word2vec_format(r\"/Users/majiga/Documents/WAMEX_project/Vectors/crawl-300d-2M.vec\")"
   ]
  },
  {
   "cell_type": "code",
   "execution_count": 7,
   "metadata": {},
   "outputs": [
    {
     "name": "stdout",
     "output_type": "stream",
     "text": [
      "[('silver', 0.8275587558746338), ('Gold', 0.7523699402809143), ('gold.This', 0.7131664752960205), ('gold-', 0.7104871273040771), ('gold.', 0.710455596446991), ('gold.Gold', 0.6910121440887451), ('gold.That', 0.6857362389564514), ('gold.The', 0.6765632629394531), ('gold.But', 0.6740745306015015), ('gold.It', 0.6623185873031616)]\n",
      "[('Silver', 0.821016788482666), ('gold', 0.7523699998855591), ('GOLD', 0.6995775699615479), ('Gold.The', 0.691943883895874), ('GOld', 0.6878565549850464), ('Platinum', 0.6807855367660522), ('SIlver', 0.6632611155509949), ('Gold-', 0.6597697734832764), ('GoldGold', 0.6560435891151428), ('Golds', 0.6527365446090698)]\n",
      "[('SILVER', 0.7977246046066284), ('PLATINUM', 0.7361685037612915), ('Gold', 0.6995775103569031), ('BRONZE', 0.6766643524169922), ('DIAMOND', 0.6478383541107178), ('gold', 0.6153411865234375), ('COPPER', 0.6004750728607178), ('GOLDEN', 0.5975058078765869), ('BURNISHED', 0.5755465626716614), ('BULLION', 0.5725054144859314)]\n",
      "[('Gold', 0.6878566145896912), ('1Gold', 0.5933390259742737), ('SIlver', 0.5823869109153748), ('Silver', 0.5709782242774963), ('-Gold', 0.5707562565803528), ('GOLD', 0.5602959394454956), ('PMGold', 0.5591175556182861), ('-Silver', 0.5515839457511902), ('AMGold', 0.5512282252311707), ('GoldGold', 0.5492987632751465)]\n",
      "[('PowerLeveling', 0.5614664554595947), ('goldaoc', 0.5012639164924622), ('goldwow', 0.4904782176017761), ('lOU', 0.48846694827079773), ('goldto', 0.48605650663375854), ('oЁґ', 0.47602012753486633), ('nffi', 0.47546109557151794), ('wholesal', 0.47242099046707153), ('ghty', 0.4714461863040924), ('Jri', 0.46755316853523254)]\n",
      "[('dubbo', 0.5792403221130371), ('townsville', 0.5747660398483276), ('goulburn', 0.5593644976615906), ('Kalgoorlie-Boulder', 0.5558626055717468), ('wodonga', 0.5469005107879639), ('Perth.', 0.5463447570800781), ('Dajarra', 0.5441750884056091), ('ballarat', 0.5402522087097168), ('perth', 0.5367125868797302), ('nowra', 0.5350064039230347)]\n",
      "[('Karratha', 0.7393873333930969), ('Meekatharra', 0.7128914594650269), ('Kambalda', 0.7113597393035889), ('Coolgardie', 0.7049853801727295), ('Cloncurry', 0.7024507522583008), ('Kalgoorlie-Boulder', 0.7022660970687866), ('Geraldton', 0.6972891688346863), ('Ballarat', 0.6953790783882141), ('Rockhampton', 0.6939184069633484), ('Goldfields', 0.6860026121139526)]\n",
      "[('Iron-ore', 0.7861418724060059), ('bauxite', 0.6870763301849365), ('ferrochrome', 0.6638524532318115), ('Gindalbie', 0.6590235829353333), ('ferro-alloy', 0.6485180854797363), ('chromite', 0.6380734443664551), ('steel-making', 0.6228168606758118), ('zinc-lead', 0.6218118071556091), ('base-metals', 0.6216084957122803), ('bauxites', 0.6182264685630798)]\n",
      "[('iron-ore', 0.7861418128013611), ('Gindalbie', 0.696661114692688), ('silicomanganese', 0.6884030103683472), ('Ferrochrome', 0.6803282499313354), ('ferro-alloys', 0.6787145137786865), ('base-metals', 0.6757019758224487), ('Lead-Zinc', 0.6687268614768982), ('ferro-alloy', 0.6612153649330139), ('bauxites', 0.6609923243522644), ('Gold-mining', 0.6568470597267151)]\n",
      "[('iron-', 0.7447221875190735), ('Iron', 0.7329957485198975), ('iron.', 0.7015658020973206), ('iron.The', 0.6762998104095459), ('-iron', 0.6501668691635132), ('ironboard', 0.6292244791984558), ('iron-related', 0.6241276860237122), ('iron.I', 0.6188137531280518), ('iorn', 0.6161506772041321), ('Iron-', 0.6106476783752441), ('IRON', 0.610223114490509), ('irons', 0.6010873317718506), ('oxide-rich', 0.5914977788925171), ('Iron.', 0.5879639387130737), ('maganese', 0.5774388909339905), ('iron-loaded', 0.5760666131973267), ('manganese', 0.5673918128013611), ('iron-containing', 0.5627928972244263), ('steel', 0.5597718954086304), ('non-iron', 0.5579127073287964)]\n"
     ]
    }
   ],
   "source": [
    "print(model.most_similar('gold'))\n",
    "print(model.most_similar('Gold'))\n",
    "print(model.most_similar('GOLD'))\n",
    "print(model.most_similar('GOld'))\n",
    "print(model.most_similar('gOld'))  \n",
    "\n",
    "print(model.most_similar('kalgoorlie'))\n",
    "print(model.most_similar('Kalgoorlie'))\n",
    "\n",
    "print(model.most_similar('iron-ore'))\n",
    "print(model.most_similar('Iron-ore'))\n",
    "\n",
    "print(model.most_similar('iron', topn=20))"
   ]
  },
  {
   "cell_type": "code",
   "execution_count": 9,
   "metadata": {},
   "outputs": [
    {
     "name": "stdout",
     "output_type": "stream",
     "text": [
      "[('Oakajee', 0.527742862701416), ('Coppabella', 0.5250656604766846), ('Iron-ore', 0.5201977491378784), ('Pilbara', 0.5160426497459412), ('Dajarra', 0.5032594799995422), ('Gindalbie', 0.5028679966926575), ('Baryulgil', 0.49065476655960083), ('Wyandra', 0.4878823161125183), ('Greenbushes', 0.47996410727500916), ('Ardlethan', 0.47882649302482605)]\n",
      "[('Pilbara', 0.6575998663902283), ('Karratha', 0.639225959777832), ('Oakajee', 0.6142781972885132), ('Middlemount', 0.605685293674469), ('Nullagine', 0.6038687825202942), ('Meekatharra', 0.6025948524475098), ('Kambalda', 0.5907741785049438), ('Geraldton', 0.58167564868927), ('Greenbushes', 0.5813217163085938), ('Yalgoo', 0.5782972574234009)]\n",
      "[('Dajarra', 0.5382474660873413), ('Coppabella', 0.520277202129364), ('ondawireless.ru', 0.511785089969635), ('Baryulgil', 0.5089787244796753), ('Gindalbie', 0.5044379234313965), ('Wyandra', 0.501114547252655), ('Dandaragan', 0.4982258975505829), ('Badgingarra', 0.493670254945755), ('Greenbushes', 0.493429571390152), ('Oakajee', 0.4929412007331848)]\n",
      "[('Karratha', 0.6755794882774353), ('Pilbara', 0.6402578353881836), ('Nullagine', 0.6255552768707275), ('Greenbushes', 0.6127710342407227), ('Merredin', 0.6107432246208191), ('Kambalda', 0.6049447059631348), ('Meekatharra', 0.6030614376068115), ('Eneabba', 0.6024156808853149), ('Middlemount', 0.6006264090538025), ('Wyandra', 0.6005827784538269)]\n"
     ]
    }
   ],
   "source": [
    "print(model.most_similar(positive=['kalgoorlie','iron-ore'],negative=['gold']))\n",
    "print(model.most_similar(positive=['Kalgoorlie','iron-ore'],negative=['gold']))\n",
    "print(model.most_similar(positive=['kalgoorlie','Iron-ore'],negative=['gold']))\n",
    "print(model.most_similar(positive=['Kalgoorlie','Iron-ore'],negative=['gold']))"
   ]
  },
  {
   "cell_type": "code",
   "execution_count": 10,
   "metadata": {},
   "outputs": [
    {
     "data": {
      "text/plain": [
       "[('queen', 0.738545835018158),\n",
       " ('queen-consort', 0.5960595011711121),\n",
       " ('Queen', 0.5804135799407959),\n",
       " ('kings', 0.563157856464386),\n",
       " ('queens', 0.5629120469093323),\n",
       " ('princess', 0.5612791180610657),\n",
       " ('monarch', 0.5540481805801392),\n",
       " ('empress', 0.5516386032104492),\n",
       " ('King', 0.5459728240966797),\n",
       " ('royal', 0.5431339144706726)]"
      ]
     },
     "execution_count": 10,
     "metadata": {},
     "output_type": "execute_result"
    }
   ],
   "source": [
    "model.most_similar(positive=['king','woman'],negative=['man'])"
   ]
  },
  {
   "cell_type": "code",
   "execution_count": null,
   "metadata": {},
   "outputs": [],
   "source": []
  }
 ],
 "metadata": {
  "kernelspec": {
   "display_name": "Python 3",
   "language": "python",
   "name": "python3"
  },
  "language_info": {
   "codemirror_mode": {
    "name": "ipython",
    "version": 3
   },
   "file_extension": ".py",
   "mimetype": "text/x-python",
   "name": "python",
   "nbconvert_exporter": "python",
   "pygments_lexer": "ipython3",
   "version": "3.6.4"
  }
 },
 "nbformat": 4,
 "nbformat_minor": 2
}
