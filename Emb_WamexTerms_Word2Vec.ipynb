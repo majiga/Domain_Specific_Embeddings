{
 "cells": [
  {
   "cell_type": "markdown",
   "metadata": {},
   "source": [
    "# WAMEX entities-only embedding with Word2Vec"
   ]
  },
  {
   "cell_type": "code",
   "execution_count": 1,
   "metadata": {},
   "outputs": [],
   "source": [
    "import gensim\n",
    "\n",
    "MODEL_FILE_NAME = r\"Vectors/Word2Vec_wamex_terms.model\""
   ]
  },
  {
   "cell_type": "markdown",
   "metadata": {},
   "source": [
    "## Load the existing model without training again"
   ]
  },
  {
   "cell_type": "code",
   "execution_count": 2,
   "metadata": {},
   "outputs": [],
   "source": [
    "model = gensim.models.Word2Vec.load(MODEL_FILE_NAME)"
   ]
  },
  {
   "cell_type": "code",
   "execution_count": 3,
   "metadata": {},
   "outputs": [
    {
     "name": "stdout",
     "output_type": "stream",
     "text": [
      "[('mineralisation', 0.6191619038581848), ('surface_gold', 0.6170198321342468), ('kalgoorlie', 0.5881068110466003), ('gold_mineral', 0.5647484064102173), ('metal', 0.562192976474762), ('mineralization', 0.507183313369751), ('western_australia', 0.5034721493721008), ('nickel', 0.49017736315727234), ('greenstone_belt', 0.48013147711753845), ('archaean', 0.4706769585609436)]\n",
      "[('iron', 0.7051430940628052), ('hematite', 0.6317529082298279), ('banded_iron_formation', 0.5566881895065308), ('west_angelas', 0.5386808514595032), ('marandoo', 0.5361345410346985), ('wickham', 0.5315225720405579), ('windarling', 0.5220561623573303), ('hamersley', 0.5217305421829224), ('mount_jackson', 0.5100877285003662), ('martite', 0.4942723214626312)]\n",
      "[('zinc', 0.5617119073867798), ('lead', 0.5512555241584778), ('swan_group', 0.5210649967193604), ('copper', 0.460279643535614), ('palladium', 0.4262487590312958)]\n",
      "[('tom_price', 0.648762047290802), ('paraburdoo', 0.5837162733078003), ('sylvania_dome', 0.5687017440795898), ('west_angelas', 0.5454880595207214), ('marandoo', 0.5447465181350708)]\n",
      "[('fortescue_basin', 0.7244188189506531), ('mount_bruce_supergroup', 0.7018742561340332), ('hamersley_basin', 0.6876320838928223), ('pilbara_craton', 0.6794089078903198), ('fortescue_group', 0.673123836517334)]\n",
      "[('coolgardie', 0.673582136631012), ('norseman', 0.6114934682846069), ('kalgoorlie_terrane', 0.5945143103599548), ('gold', 0.5881068706512451), ('broad_arrow', 0.5788660049438477)]\n",
      "[('roebourne', 0.7628266215324402), ('pannawonica', 0.6963350772857666), ('roebourne_group', 0.6462945342063904), ('wickham', 0.6379640698432922), ('dampier', 0.6300130486488342)]\n",
      "[('coobina', 0.8348822593688965), ('sylvania_dome', 0.64325350522995), ('flint', 0.45553940534591675), ('bangemall_basin', 0.4492812752723694), ('wyloo_group', 0.4285429120063782)]\n",
      "[('king_leopold', 0.7210707068443298), ('kimberley_basin', 0.7064891457557678), ('kimberley_craton', 0.6886971592903137), ('argyle', 0.6847957372665405), ('fitzroy_crossing', 0.6588968634605408)]\n"
     ]
    }
   ],
   "source": [
    "# Similarity tasks\n",
    "print(model.wv.most_similar('gold', topn=10))\n",
    "print(model.wv.most_similar('iron_ore', topn=10))\n",
    "print(model.wv.most_similar('silver', topn=5))\n",
    "\n",
    "print(model.wv.most_similar('newman', topn=5))\n",
    "print(model.wv.most_similar('pilbara', topn=5))\n",
    "print(model.wv.most_similar('kalgoorlie', topn=5))\n",
    "print(model.wv.most_similar('karratha', topn=5))\n",
    "print(model.wv.most_similar('jimblebar', topn=5))\n",
    "print(model.wv.most_similar('kimberley', topn=5))"
   ]
  },
  {
   "cell_type": "code",
   "execution_count": 4,
   "metadata": {},
   "outputs": [
    {
     "name": "stdout",
     "output_type": "stream",
     "text": [
      "[('marandoo', 0.4990759789943695), ('martite', 0.48999345302581787), ('hematite', 0.48836931586265564), ('west_angelas', 0.4678151309490204), ('yerecoin', 0.4669319987297058), ('windarling', 0.4495268762111664), ('koolyanobbing', 0.44054800271987915), ('iron', 0.43788841366767883), ('wickham', 0.4275642931461334), ('bullfinch', 0.4221304655075073)]\n",
      "0.5881068198891727\n",
      "0.29616727253476904\n",
      "0.3226652338612731\n"
     ]
    }
   ],
   "source": [
    "# Analogy tasks\n",
    "print(model.wv.most_similar(positive=['kalgoorlie','iron_ore'],negative=['gold']))\n",
    "\n",
    "print(model.wv.similarity(\"gold\",\"kalgoorlie\"))\n",
    "print(model.wv.similarity(\"gold\",\"iron\"))\n",
    "print(model.wv.similarity(\"gold\",\"iron_ore\"))"
   ]
  },
  {
   "cell_type": "code",
   "execution_count": null,
   "metadata": {},
   "outputs": [],
   "source": []
  },
  {
   "cell_type": "markdown",
   "metadata": {},
   "source": [
    "## Read the entities only file and Train the Word2Vec model\n",
    "Note: Or load the trained model in the next line"
   ]
  },
  {
   "cell_type": "raw",
   "metadata": {},
   "source": [
    "# RUN IT TO CREATE EMBEDDINGS\n",
    "\n",
    "FILE_TO_READ = r\"/Users/majiga/Documents/wamex/WAMEX_geological_entities_allfiles.txt\"\n",
    "#FILE_TO_READ = \"C:/wamex/data/WAMEX_geological_entities_allfiles.txt\"\n",
    "\n",
    "with open(FILE_TO_READ) as f:\n",
    "    lines = f.readlines()\n",
    "\n",
    "# A sentence here contains entities of a wamex report separated by comma\n",
    "sentences = []\n",
    "count = 0 # counts tokens\n",
    "count_entities = 0\n",
    "# A line represents a wamex report here\n",
    "for line in lines:\n",
    "    tokens = []\n",
    "    for term in line.split(','):    # entities are separated with comma\n",
    "        term_stripped = term.strip()\n",
    "        if (term_stripped == ''):\n",
    "            continue\n",
    "        tokens.append(term_stripped.replace(' ', '_'))\n",
    "        count += len(term_stripped.split())\n",
    "        count_entities += 1\n",
    "    sentences.append(tokens)\n",
    "\n",
    "print(str(count_entities))\n",
    "#print(sentences[0][0])\n",
    "\n",
    "# The training params are: embedding size: 300, negative samples: 5, window_size: 5,\n",
    "#                       starting learning rate: 0.025 (a dynamic learning rate was used)\n",
    "#                       minimum frequency: 10 (only word occurs more than 10 times were considered).\n",
    "# class gensim.models.word2vec.Word2Vec(sentences=None, size=100, alpha=0.025, window=5, min_count=5,\n",
    "#                           max_vocab_size=None, sample=0.001, seed=1, workers=3, min_alpha=0.0001,\n",
    "#                           sg=0, hs=0, negative=5, cbow_mean=1, hashfxn=<built-in function hash>, iter=5,\n",
    "#                           null_word=0, trim_rule=None, sorted_vocab=1, batch_words=10000, compute_loss=False, callbacks=())\n",
    "word2vec_model_SG = gensim.models.Word2Vec(sentences, window=5, size=100, workers=4, min_count=100, sg=1) \n",
    "#print(list(word2vec_model_SG.wv.vocab))\n",
    "print(len(word2vec_model_SG.wv.vocab))  # 837 100+freq\n",
    "\n",
    "print(word2vec_model_SG.wv.most_similar('gold'))\n",
    "print(word2vec_model_SG.wv.most_similar('iron_ore'))\n",
    "print(word2vec_model_SG.wv.most_similar('iron', topn=10))\n",
    "print(word2vec_model_SG.wv.most_similar(positive=['kalgoorlie','iron_ore'],negative=['gold']))\n",
    "\n",
    "# Save the model\n",
    "word2vec_model_SG.save(MODEL_FILE_NAME)"
   ]
  }
 ],
 "metadata": {
  "kernelspec": {
   "display_name": "Python 3",
   "language": "python",
   "name": "python3"
  },
  "language_info": {
   "codemirror_mode": {
    "name": "ipython",
    "version": 3
   },
   "file_extension": ".py",
   "mimetype": "text/x-python",
   "name": "python",
   "nbconvert_exporter": "python",
   "pygments_lexer": "ipython3",
   "version": "3.6.4"
  }
 },
 "nbformat": 4,
 "nbformat_minor": 2
}
