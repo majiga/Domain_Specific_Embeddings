{
 "cells": [
  {
   "cell_type": "markdown",
   "metadata": {},
   "source": [
    "# WAMEX entities-only embedding with Word2Vec"
   ]
  },
  {
   "cell_type": "code",
   "execution_count": 11,
   "metadata": {},
   "outputs": [],
   "source": [
    "import gensim\n",
    "\n",
    "FILE_NAME = r\"/Users/majiga/Documents/Word2Vec_wamex_terms.model\""
   ]
  },
  {
   "cell_type": "markdown",
   "metadata": {},
   "source": [
    "## Read the entities only file and Train the Word2Vec model\n",
    "Note: Or load the trained model in the next line"
   ]
  },
  {
   "cell_type": "code",
   "execution_count": 20,
   "metadata": {},
   "outputs": [
    {
     "name": "stdout",
     "output_type": "stream",
     "text": [
      "2771018\n",
      "837\n",
      "[('mineralisation', 0.6363939046859741), ('metal', 0.6065853238105774), ('kalgoorlie', 0.5968964099884033), ('surface_gold', 0.594529390335083), ('gold_mineral', 0.5634409189224243), ('western_australia', 0.5217987895011902), ('mineralization', 0.5126714706420898), ('archaean', 0.5004996061325073), ('nickel', 0.4965936243534088), ('greenstone_belt', 0.48680993914604187)]\n",
      "[('iron', 0.7206388115882874), ('hematite', 0.632707417011261), ('west_angelas', 0.5473869442939758), ('marandoo', 0.5403792262077332), ('banded_iron_formation', 0.5189744830131531), ('mount_jackson', 0.5177208781242371), ('windarling', 0.5065422058105469), ('martite', 0.4976215064525604), ('wickham', 0.4949774742126465), ('metal', 0.49167191982269287)]\n",
      "[('iron_ore', 0.7206388711929321), ('west_angelas', 0.619148313999176), ('hamersley', 0.6091073155403137), ('hematite', 0.5912581086158752), ('marandoo', 0.5569400787353516), ('mount_sylvia_formation', 0.5469037294387817), ('banded_iron_formation', 0.5390500426292419), ('wittenoom_formation', 0.5302539467811584), ('metal', 0.5170605182647705), ('macleod_member', 0.5144981741905212)]\n",
      "[('hematite', 0.4939177930355072), ('martite', 0.4885633885860443), ('windarling', 0.4817623794078827), ('yerecoin', 0.4621790051460266), ('marandoo', 0.4594327211380005), ('iron', 0.4346711039543152), ('west_angelas', 0.42481499910354614), ('koolyanobbing', 0.4121536314487457), ('mount_jackson', 0.4039034843444824), ('sodium_nitrate', 0.3965913653373718)]\n"
     ]
    }
   ],
   "source": [
    "FILE_TO_READ = r\"/Users/majiga/Documents/wamex/WAMEX_geological_entities_allfiles.txt\"\n",
    "#FILE_TO_READ = \"C:/wamex/data/WAMEX_geological_entities_allfiles.txt\"\n",
    "\n",
    "with open(FILE_TO_READ) as f:\n",
    "    lines = f.readlines()\n",
    "\n",
    "# A sentence here contains entities of a wamex report separated by comma\n",
    "sentences = []\n",
    "count = 0 # counts tokens\n",
    "count_entities = 0\n",
    "# A line represents a wamex report here\n",
    "for line in lines:\n",
    "    tokens = []\n",
    "    for term in line.split(','):    # entities are separated with comma\n",
    "        term_stripped = term.strip()\n",
    "        if (term_stripped == ''):\n",
    "            continue\n",
    "        tokens.append(term_stripped.replace(' ', '_'))\n",
    "        count += len(term_stripped.split())\n",
    "        count_entities += 1\n",
    "    sentences.append(tokens)\n",
    "\n",
    "print(str(count_entities))\n",
    "#print(sentences[0][0])\n",
    "\n",
    "# The training params are: embedding size: 300, negative samples: 5, window_size: 5,\n",
    "#                       starting learning rate: 0.025 (a dynamic learning rate was used)\n",
    "#                       minimum frequency: 10 (only word occurs more than 10 times were considered).\n",
    "# class gensim.models.word2vec.Word2Vec(sentences=None, size=100, alpha=0.025, window=5, min_count=5,\n",
    "#                           max_vocab_size=None, sample=0.001, seed=1, workers=3, min_alpha=0.0001,\n",
    "#                           sg=0, hs=0, negative=5, cbow_mean=1, hashfxn=<built-in function hash>, iter=5,\n",
    "#                           null_word=0, trim_rule=None, sorted_vocab=1, batch_words=10000, compute_loss=False, callbacks=())\n",
    "word2vec_model_SG = gensim.models.Word2Vec(sentences, window=5, size=100, workers=4, min_count=100, sg=1) \n",
    "#print(list(word2vec_model_SG.wv.vocab))\n",
    "print(len(word2vec_model_SG.wv.vocab))  # 837 100+freq\n",
    "\n",
    "print(word2vec_model_SG.wv.most_similar('gold'))\n",
    "print(word2vec_model_SG.wv.most_similar('iron_ore'))\n",
    "print(word2vec_model_SG.wv.most_similar('iron', topn=10))\n",
    "print(word2vec_model_SG.wv.most_similar(positive=['kalgoorlie','iron_ore'],negative=['gold']))\n",
    "\n",
    "# Save the model\n",
    "word2vec_model_SG.save(FILE_NAME)"
   ]
  },
  {
   "cell_type": "markdown",
   "metadata": {},
   "source": [
    "## Load the existing model without training again"
   ]
  },
  {
   "cell_type": "code",
   "execution_count": 16,
   "metadata": {},
   "outputs": [],
   "source": [
    "model = gensim.models.Word2Vec.load(FILE_NAME)"
   ]
  },
  {
   "cell_type": "code",
   "execution_count": 26,
   "metadata": {},
   "outputs": [
    {
     "name": "stdout",
     "output_type": "stream",
     "text": [
      "[('mineralisation', 0.6494973301887512), ('surface_gold', 0.6378311514854431), ('kalgoorlie', 0.6300500631332397), ('metal', 0.6135931611061096), ('gold_mineral', 0.5945351123809814), ('kalgoorlie_super_pit', 0.5861181616783142), ('ora_banda', 0.5737034678459167), ('trident_higginsville', 0.5652869939804077), ('tenant_creek', 0.559809684753418), ('woolgangie_supersuite', 0.555441677570343)]\n",
      "[('iron', 0.7487592101097107), ('mount_tom_price', 0.7377001047134399), ('taconite', 0.7093562483787537), ('mining_area_c', 0.7017711997032166), ('mount_whaleback', 0.6620317697525024), ('lamb_creek', 0.6539729833602905), ('hematite', 0.6480545401573181), ('western_turner_syncline', 0.6399140954017639), ('phils_creek', 0.6367251873016357), ('shotts', 0.6329114437103271)]\n",
      "[('cerargyrite', 0.6069443821907043), ('swan_group', 0.5995651483535767), ('embolite', 0.5609700083732605), ('zinc', 0.5575101375579834), ('native_mercury', 0.540847897529602)]\n",
      "[('bhp_yandi', 0.631328284740448), ('tom_price', 0.6307688355445862), ('western_turner_syncline', 0.6122511625289917), ('paraburdoo', 0.5833431482315063), ('mining_area_c', 0.5825645923614502)]\n",
      "[('hamersley_basin', 0.673945426940918), ('fortescue_group', 0.6702082753181458), ('fortescue_basin', 0.6638094782829285), ('mount_webber', 0.6578136086463928), ('bhp_yandi', 0.6565048098564148)]\n",
      "[('coolgardie', 0.6712238192558289), ('kalgoorlie_super_pit', 0.6662142276763916), ('gold', 0.6300501227378845), ('st_ives_project', 0.6229640245437622), ('norseman', 0.6114604473114014)]\n",
      "[('roebourne', 0.7435199618339539), ('pannawonica', 0.7130618095397949), ('point_samson', 0.6854699850082397), ('wickham', 0.6848551034927368), ('sholl_intrusion', 0.6736476421356201)]\n",
      "[('coobina', 0.8317617177963257), ('sylvania_dome', 0.6053512692451477), ('newlands', 0.5864449739456177), ('mount_whaleback', 0.5101106762886047), ('stag_arrow_formation', 0.48640239238739014)]\n",
      "[('kimberley_basin', 0.7183502316474915), ('king_leopold', 0.707573652267456), ('foal_creek_intrusion', 0.6899014711380005), ('kimberley_craton', 0.6864790320396423), ('fitzroy_crossing', 0.6597899198532104)]\n"
     ]
    }
   ],
   "source": [
    "# Similarity tasks\n",
    "print(model.wv.most_similar('gold', topn=10))\n",
    "print(model.wv.most_similar('iron_ore', topn=10))\n",
    "print(model.wv.most_similar('silver', topn=5))\n",
    "\n",
    "print(model.wv.most_similar('newman', topn=5))\n",
    "print(model.wv.most_similar('pilbara', topn=5))\n",
    "print(model.wv.most_similar('kalgoorlie', topn=5))\n",
    "print(model.wv.most_similar('karratha', topn=5))\n",
    "print(model.wv.most_similar('jimblebar', topn=5))\n",
    "print(model.wv.most_similar('kimberley', topn=5))"
   ]
  },
  {
   "cell_type": "code",
   "execution_count": 24,
   "metadata": {},
   "outputs": [
    {
     "name": "stdout",
     "output_type": "stream",
     "text": [
      "[('mining_area_c', 0.5772267580032349), ('mount_tom_price', 0.5731696486473083), ('mount_newman', 0.5589855313301086), ('hematite', 0.5273689031600952), ('mount_whaleback', 0.5172984004020691), ('iron', 0.5170543193817139), ('turgite', 0.5149091482162476), ('taconite', 0.5094118714332581), ('martite', 0.5032489895820618), ('marandoo', 0.49018943309783936)]\n",
      "0.6300501248708588\n",
      "0.3230697174600848\n",
      "0.3696456650176071\n"
     ]
    }
   ],
   "source": [
    "# Analogy tasks\n",
    "print(model.wv.most_similar(positive=['kalgoorlie','iron_ore'],negative=['gold']))\n",
    "\n",
    "print(model.wv.similarity(\"gold\",\"kalgoorlie\"))\n",
    "print(model.wv.similarity(\"gold\",\"iron\"))\n",
    "print(model.wv.similarity(\"gold\",\"iron_ore\"))"
   ]
  },
  {
   "cell_type": "code",
   "execution_count": null,
   "metadata": {},
   "outputs": [],
   "source": []
  }
 ],
 "metadata": {
  "kernelspec": {
   "display_name": "Python 3",
   "language": "python",
   "name": "python3"
  },
  "language_info": {
   "codemirror_mode": {
    "name": "ipython",
    "version": 3
   },
   "file_extension": ".py",
   "mimetype": "text/x-python",
   "name": "python",
   "nbconvert_exporter": "python",
   "pygments_lexer": "ipython3",
   "version": "3.6.4"
  }
 },
 "nbformat": 4,
 "nbformat_minor": 2
}
